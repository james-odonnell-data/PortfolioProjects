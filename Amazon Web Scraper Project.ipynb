{
 "cells": [
  {
   "cell_type": "markdown",
   "id": "2aedd28b",
   "metadata": {},
   "source": [
    "# Amazon Web Scrapper and Automated Price Alert Email\n",
    "**Creating a simple web scrapper to scrape data from a static Amazon webpage, compile the daily checks into a dataset, and creating an automated email in the event the price drops to or below $10.**"
   ]
  },
  {
   "cell_type": "code",
   "execution_count": 1,
   "id": "63095d08",
   "metadata": {},
   "outputs": [],
   "source": [
    "# import libraries\n",
    "\n",
    "from bs4 import BeautifulSoup\n",
    "import requests\n",
    "import smtplib\n",
    "import time\n",
    "import datetime\n",
    "import csv\n",
    "import pandas as pd\n"
   ]
  },
  {
   "cell_type": "code",
   "execution_count": 2,
   "id": "196d7a2e",
   "metadata": {},
   "outputs": [
    {
     "name": "stdout",
     "output_type": "stream",
     "text": [
      "Title: Funny Got Data MIS Data Systems Business Analyst T-Shirt\n",
      "Price: 16.99\n",
      "Reviews: 15.0\n",
      "Stars: 4.8\n",
      "Date: 2023-01-23\n"
     ]
    }
   ],
   "source": [
    "# Connect to Amazon\n",
    "\n",
    "URL = 'https://www.amazon.com/Funny-Data-Systems-Business-Analyst/dp/B07FNW9FGJ/ref=sr_1_4?crid=1AXDIOVI7IWXO&keywords=data%2Banalyst%2Btshirt&qid=1674486880&sprefix=data%2Banalyst%2Btshirt%2Caps%2C69&sr=8-4'\n",
    "\n",
    "headers = {\"User-Agent\": \"Mozilla/5.0 (Windows NT 10.0; Win64; x64) AppleWebKit/537.36 (KHTML, like Gecko) Chrome/109.0.0.0 Safari/537.36\", \"Accept-Encoding\":\"gzip, deflate\", \"Accept\":\"text/html,application/xhtml+xml,application/xml;q=0.9,*/*;q=0.8\", \"DNT\":\"1\",\"Connection\":\"close\", \"Upgrade-Insecure-Requests\":\"1\"}\n",
    "\n",
    "page =  requests.get(URL, headers = headers)\n",
    "\n",
    "soup1 = BeautifulSoup(page.content, 'html.parser')\n",
    "\n",
    "soup2 = BeautifulSoup(soup1.prettify(), 'html.parser')\n",
    "\n",
    "title = soup2.find(id = 'productTitle').get_text().strip()\n",
    "\n",
    "price = soup2.find('span', {'class':\"a-offscreen\"}).text.strip()\n",
    "\n",
    "reviewcount = soup2.find(id = 'acrCustomerReviewText').get_text().strip()\n",
    "\n",
    "rating = soup2.find('span', {'class':\"a-icon-alt\"}).text.strip()\n",
    "\n",
    "price = price.strip()[1:]\n",
    "\n",
    "price = float(price)\n",
    "\n",
    "reviewcount = reviewcount[:2]\n",
    "\n",
    "reviewcount = float(reviewcount)\n",
    "\n",
    "rating = rating[0:3]\n",
    "\n",
    "rating = float(rating)\n",
    "\n",
    "today = datetime.date.today()\n",
    "\n",
    "print('Title:', title)\n",
    "print('Price:', price)\n",
    "print('Reviews:', reviewcount)\n",
    "print('Stars:', rating)\n",
    "print('Date:', today)\n",
    "\n",
    "#print(type(title))\n",
    "#print(type(price))\n",
    "#print(type(reviewcount))\n",
    "#print(type(rating))\n",
    "\n",
    "\n",
    "\n"
   ]
  },
  {
   "cell_type": "code",
   "execution_count": 3,
   "id": "921cc13d",
   "metadata": {},
   "outputs": [],
   "source": [
    "# writing data to csv\n",
    "\n",
    "\n",
    "header = ['Title', 'Price', 'Reviews', 'Stars', 'Date']\n",
    "data = [title, price, reviewcount, rating, today]\n",
    "\n",
    "with open('AmzWebScrape.csv', 'w', newline = '', encoding = 'UTF8') as f:\n",
    "    writer = csv.writer(f)\n",
    "    writer.writerow(header)\n",
    "    writer.writerow(data)\n",
    "\n"
   ]
  },
  {
   "cell_type": "code",
   "execution_count": 4,
   "id": "af4baca4",
   "metadata": {},
   "outputs": [
    {
     "name": "stdout",
     "output_type": "stream",
     "text": [
      "                                               Title  Price  Reviews  Stars  \\\n",
      "0  Funny Got Data MIS Data Systems Business Analy...  16.99     15.0    4.8   \n",
      "\n",
      "         Date  \n",
      "0  2023-01-23  \n"
     ]
    }
   ],
   "source": [
    "df = pd.read_csv(r'C:\\Users\\15716\\AmzWebScrape.csv')\n",
    "print(df)"
   ]
  },
  {
   "cell_type": "code",
   "execution_count": 5,
   "id": "2d5dbe6a",
   "metadata": {},
   "outputs": [],
   "source": [
    "# Setting up for additional daily data to write to csv\n",
    "\n",
    "with open('AmzWebScrape.csv', 'a+', newline = '', encoding = 'UTF8') as f:\n",
    "    writer = csv.writer(f)\n",
    "    writer.writerow(data)"
   ]
  },
  {
   "cell_type": "code",
   "execution_count": null,
   "id": "0cac883d",
   "metadata": {},
   "outputs": [],
   "source": [
    "# Setting up automated email\n",
    "\n",
    "def send_mail():\n",
    "    server = smtplib.STMP_SSL('smtp.gmail.com', 465)\n",
    "    server = ehlo()\n",
    "    server.starttls()\n",
    "    server.ehlo()\n",
    "    server.login('jameskodonnel82@gmail.com', 'NotShowingMyPassword')\n",
    "    \n",
    "    subject = 'The Shirt you are watching is Below $10!'\n",
    "    body = 'This is to notify you that the shirt you have watching is now in your targetd price range.'\n",
    "    \n",
    "    msg = f'Subject: {subject}\\n\\n{body}'\n",
    "    \n",
    "    server.sendmail(\n",
    "        'jameskodonnell82@gmail.com',\n",
    "        msg\n",
    "    \n",
    "    )"
   ]
  },
  {
   "cell_type": "code",
   "execution_count": null,
   "id": "08b9d2b0",
   "metadata": {},
   "outputs": [],
   "source": [
    "# Defining function for daily price check\n",
    "\n",
    "def check_price():\n",
    "    URL = 'https://www.amazon.com/Funny-Data-Systems-Business-Analyst/dp/B07FNW9FGJ/ref=sr_1_4?crid=1AXDIOVI7IWXO&keywords=data%2Banalyst%2Btshirt&qid=1674486880&sprefix=data%2Banalyst%2Btshirt%2Caps%2C69&sr=8-4'\n",
    "\n",
    "    headers = {\"User-Agent\": \"Mozilla/5.0 (Windows NT 10.0; Win64; x64) AppleWebKit/537.36 (KHTML, like Gecko) Chrome/109.0.0.0 Safari/537.36\", \"Accept-Encoding\":\"gzip, deflate\", \"Accept\":\"text/html,application/xhtml+xml,application/xml;q=0.9,*/*;q=0.8\", \"DNT\":\"1\",\"Connection\":\"close\", \"Upgrade-Insecure-Requests\":\"1\"}\n",
    "\n",
    "    page =  requests.get(URL, headers = headers)\n",
    "\n",
    "    soup1 = BeautifulSoup(page.content, 'html.parser')\n",
    "\n",
    "    soup2 = BeautifulSoup(soup1.prettify(), 'html.parser')\n",
    "    \n",
    "    title = soup2.find(id = 'productTitle').get_text().strip()\n",
    "\n",
    "    price = soup2.find('span', {'class':\"a-offscreen\"}).text.strip()\n",
    "\n",
    "    reviewcount = soup2.find(id = 'acrCustomerReviewText').get_text().strip()\n",
    "\n",
    "    rating = soup2.find('span', {'class':\"a-icon-alt\"}).text.strip()\n",
    "\n",
    "    price = price.strip()[1:]\n",
    "\n",
    "    price = float(price)\n",
    "\n",
    "    reviewcount = reviewcount[:2]\n",
    "\n",
    "    reviewcount = float(reviewcount)\n",
    "\n",
    "    rating = rating[0:3]\n",
    "\n",
    "    rating = float(rating)\n",
    "\n",
    "    today = datetime.date.today()\n",
    "    \n",
    "    header = ['Title', 'Price', 'Reviews', 'Stars', 'Date']\n",
    "    \n",
    "    data = [title, price, reviewcount, rating, today]\n",
    "    \n",
    "    with open('AmzWebScrape.csv', 'a+', newline = '', encoding = 'UTF8') as f:\n",
    "        writer = csv.writer(f)\n",
    "        writer.writerow(data)\n",
    "        \n",
    "    if(price <= 10):\n",
    "        send_mail()\n"
   ]
  },
  {
   "cell_type": "code",
   "execution_count": null,
   "id": "b8e538c8",
   "metadata": {},
   "outputs": [],
   "source": [
    "# Setting up daily price check\n",
    "\n",
    "while(True):\n",
    "    check_price()\n",
    "    time.sleep(86400)"
   ]
  },
  {
   "cell_type": "code",
   "execution_count": null,
   "id": "ddb11cf7",
   "metadata": {},
   "outputs": [],
   "source": [
    "df = pd.read_csv(r'C:\\Users\\15716\\AmzWebScrape.csv')\n",
    "print(df)"
   ]
  }
 ],
 "metadata": {
  "kernelspec": {
   "display_name": "Python 3 (ipykernel)",
   "language": "python",
   "name": "python3"
  },
  "language_info": {
   "codemirror_mode": {
    "name": "ipython",
    "version": 3
   },
   "file_extension": ".py",
   "mimetype": "text/x-python",
   "name": "python",
   "nbconvert_exporter": "python",
   "pygments_lexer": "ipython3",
   "version": "3.9.13"
  }
 },
 "nbformat": 4,
 "nbformat_minor": 5
}
